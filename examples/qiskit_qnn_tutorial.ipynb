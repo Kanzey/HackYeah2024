{
 "cells": [
  {
   "cell_type": "markdown",
   "id": "d2caa1f5",
   "metadata": {},
   "source": [
    "# Quantum Neural Networks with Qiskit Tutorial\n",
    "\n",
    "This tutorial covers the basics of setting up a quantum neural network (QNN) using Qiskit and explores building hybrid quantum-classical models."
   ]
  },
  {
   "cell_type": "code",
   "execution_count": 6,
   "id": "e61104c5",
   "metadata": {},
   "outputs": [
    {
     "ename": "ImportError",
     "evalue": "cannot import name 'algorithm_globals' from 'qiskit_machine_learning.utils' (/home/jan/.local/lib/python3.10/site-packages/qiskit_machine_learning/utils/__init__.py)",
     "output_type": "error",
     "traceback": [
      "\u001b[0;31m---------------------------------------------------------------------------\u001b[0m",
      "\u001b[0;31mImportError\u001b[0m                               Traceback (most recent call last)",
      "Cell \u001b[0;32mIn[6], line 1\u001b[0m\n\u001b[0;32m----> 1\u001b[0m \u001b[38;5;28;01mfrom\u001b[39;00m \u001b[38;5;21;01mqiskit_machine_learning\u001b[39;00m\u001b[38;5;21;01m.\u001b[39;00m\u001b[38;5;21;01mutils\u001b[39;00m \u001b[38;5;28;01mimport\u001b[39;00m algorithm_globals\n\u001b[1;32m      2\u001b[0m algorithm_globals\u001b[38;5;241m.\u001b[39mrandom_seed \u001b[38;5;241m=\u001b[39m \u001b[38;5;241m42\u001b[39m\n",
      "\u001b[0;31mImportError\u001b[0m: cannot import name 'algorithm_globals' from 'qiskit_machine_learning.utils' (/home/jan/.local/lib/python3.10/site-packages/qiskit_machine_learning/utils/__init__.py)"
     ]
    }
   ],
   "source": [
    "# from qiskit_machine_learning.utils import algorithm_globals\n",
    "from qiskit.utils import algorithm_globals\n",
    "algorithm_globals.random_seed = 42"
   ]
  },
  {
   "cell_type": "markdown",
   "id": "3e750d50",
   "metadata": {},
   "source": [
    "### Define Quantum Circuit with Parameters"
   ]
  },
  {
   "cell_type": "code",
   "execution_count": 3,
   "id": "408e973a",
   "metadata": {},
   "outputs": [
    {
     "data": {
      "image/png": "[encoded data removed]",
      "text/plain": [
       "<Figure size 352.675x117.056 with 1 Axes>"
      ]
     },
     "execution_count": 3,
     "metadata": {},
     "output_type": "execute_result"
    }
   ],
   "source": [
    "from qiskit.circuit import Parameter\n",
    "from qiskit import QuantumCircuit\n",
    "\n",
    "params1 = [Parameter(\"input1\"), Parameter(\"weight1\")]\n",
    "qc1 = QuantumCircuit(1)\n",
    "qc1.h(0)\n",
    "qc1.ry(params1[0], 0)\n",
    "qc1.rx(params1[1], 0)\n",
    "qc1.draw(\"mpl\", style=\"clifford\")"
   ]
  },
  {
   "cell_type": "markdown",
   "id": "21aeb554",
   "metadata": {},
   "source": [
    "### Define Observable for Quantum Measurement"
   ]
  },
  {
   "cell_type": "code",
   "execution_count": 4,
   "id": "864eae88",
   "metadata": {},
   "outputs": [],
   "source": [
    "from qiskit.quantum_info import SparsePauliOp\n",
    "\n",
    "observable1 = SparsePauliOp.from_list([(\"Y\" * qc1.num_qubits, 1)])"
   ]
  },
  {
   "cell_type": "markdown",
   "id": "8957d421",
   "metadata": {},
   "source": [
    "### Create Estimator Quantum Neural Network (QNN)"
   ]
  },
  {
   "cell_type": "code",
   "execution_count": 5,
   "id": "9e5bef6d",
   "metadata": {},
   "outputs": [
    {
     "ename": "ModuleNotFoundError",
     "evalue": "No module named 'qiskit_machine_learning'",
     "output_type": "error",
     "traceback": [
      "\u001b[0;31m---------------------------------------------------------------------------\u001b[0m",
      "\u001b[0;31mModuleNotFoundError\u001b[0m                       Traceback (most recent call last)",
      "Cell \u001b[0;32mIn[5], line 1\u001b[0m\n\u001b[0;32m----> 1\u001b[0m \u001b[38;5;28;01mfrom\u001b[39;00m \u001b[38;5;21;01mqiskit_machine_learning\u001b[39;00m\u001b[38;5;21;01m.\u001b[39;00m\u001b[38;5;21;01mneural_networks\u001b[39;00m \u001b[38;5;28;01mimport\u001b[39;00m EstimatorQNN\n\u001b[1;32m      3\u001b[0m estimator_qnn \u001b[38;5;241m=\u001b[39m EstimatorQNN(\n\u001b[1;32m      4\u001b[0m     circuit\u001b[38;5;241m=\u001b[39mqc1, observables\u001b[38;5;241m=\u001b[39mobservable1, input_params\u001b[38;5;241m=\u001b[39m[params1[\u001b[38;5;241m0\u001b[39m]], weight_params\u001b[38;5;241m=\u001b[39m[params1[\u001b[38;5;241m1\u001b[39m]]\n\u001b[1;32m      5\u001b[0m )\n\u001b[1;32m      6\u001b[0m estimator_qnn\n",
      "\u001b[0;31mModuleNotFoundError\u001b[0m: No module named 'qiskit_machine_learning'"
     ]
    }
   ],
   "source": [
    "from qiskit_machine_learning.neural_networks import EstimatorQNN\n",
    "\n",
    "estimator_qnn = EstimatorQNN(\n",
    "    circuit=qc1, observables=observable1, input_params=[params1[0]], weight_params=[params1[1]]\n",
    ")\n",
    "estimator_qnn"
   ]
  },
  {
   "cell_type": "markdown",
   "id": "89f20182",
   "metadata": {},
   "source": [
    "### Extend Quantum Circuit for Multiple Qubits"
   ]
  },
  {
   "cell_type": "code",
   "execution_count": null,
   "id": "7e95eb02",
   "metadata": {},
   "outputs": [],
   "source": [
    "from qiskit.circuit import ParameterVector\n",
    "\n",
    "inputs2 = ParameterVector(\"input\", 2)\n",
    "weights2 = ParameterVector(\"weight\", 4)\n",
    "\n",
    "qc2 = QuantumCircuit(2)\n",
    "qc2.ry(inputs2[0], 0)\n",
    "qc2.ry(inputs2[1], 1)\n",
    "qc2.cx(0, 1)\n",
    "qc2.ry(weights2[0], 0)\n",
    "qc2.ry(weights2[1], 1)\n",
    "qc2.cx(0, 1)\n",
    "qc2.ry(weights2[2], 0)\n",
    "qc2.ry(weights2[3], 1)\n",
    "\n",
    "qc2.draw(\"mpl\", style=\"clifford\")"
   ]
  },
  {
   "cell_type": "markdown",
   "id": "3994c55a",
   "metadata": {},
   "source": [
    "### Create Sampler QNN"
   ]
  },
  {
   "cell_type": "code",
   "execution_count": null,
   "id": "5eb7bee7",
   "metadata": {},
   "outputs": [],
   "source": [
    "from qiskit_machine_learning.neural_networks import SamplerQNN\n",
    "\n",
    "sampler_qnn = SamplerQNN(circuit=qc2, input_params=inputs2, weight_params=weights2)\n",
    "sampler_qnn"
   ]
  },
  {
   "cell_type": "markdown",
   "id": "9e02703b",
   "metadata": {},
   "source": [
    "### Forward Pass and Backpropagation"
   ]
  },
  {
   "cell_type": "code",
   "execution_count": null,
   "id": "c3347679",
   "metadata": {},
   "outputs": [],
   "source": [
    "# Forward pass\n",
    "estimator_qnn_input = algorithm_globals.random.random(estimator_qnn.num_inputs)\n",
    "estimator_qnn_weights = algorithm_globals.random.random(estimator_qnn.num_weights)\n",
    "\n",
    "# Backpropagation\n",
    "estimator_qnn_input_grad, estimator_qnn_weight_grad = estimator_qnn.backward(\n",
    "    estimator_qnn_input, estimator_qnn_weights\n",
    ")\n",
    "\n",
    "print(f\"Input gradients: {estimator_qnn_input_grad}\")\n",
    "print(f\"Weight gradients: {estimator_qnn_weight_grad}\")"
   ]
  },
  {
   "cell_type": "markdown",
   "id": "e675dad4",
   "metadata": {},
   "source": [
    "### Handle Parity and Output Shape"
   ]
  },
  {
   "cell_type": "code",
   "execution_count": null,
   "id": "8a380e9f",
   "metadata": {},
   "outputs": [],
   "source": [
    "parity = lambda x: \"{:b}\".format(x).count(\"1\") % 2\n",
    "output_shape = 2  # parity = 0, 1\n",
    "\n",
    "sampler_qnn2 = SamplerQNN(\n",
    "    circuit=qc2,\n",
    "    input_params=inputs2,\n",
    "    weight_params=weights2,\n",
    "    interpret=parity,\n",
    "    output_shape=output_shape,\n",
    ")"
   ]
  },
  {
   "cell_type": "code",
   "execution_count": null,
   "id": "2ae64954",
   "metadata": {},
   "outputs": [],
   "source": [
    "# Check Qiskit Version\n",
    "import tutorial_magics\n",
    "\n",
    "%qiskit_version_table\n",
    "%qiskit_copyright"
   ]
  }
 ],
 "metadata": {
  "kernelspec": {
   "display_name": "Python 3",
   "language": "python",
   "name": "python3"
  },
  "language_info": {
   "codemirror_mode": {
    "name": "ipython",
    "version": 3
   },
   "file_extension": ".py",
   "mimetype": "text/x-python",
   "name": "python",
   "nbconvert_exporter": "python",
   "pygments_lexer": "ipython3",
   "version": "3.10.12"
  }
 },
 "nbformat": 4,
 "nbformat_minor": 5
}
