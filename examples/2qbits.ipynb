{
 "cells": [
  {
   "cell_type": "code",
   "execution_count": 1,
   "id": "f0231a55-9ca8-4f50-856a-e5571fb45d13",
   "metadata": {},
   "outputs": [],
   "source": [
    "from qiskit import QuantumCircuit\n"
   ]
  },
  {
   "cell_type": "code",
   "execution_count": 2,
   "id": "056b3416-fa87-4f7b-bcc1-f1d3f77de069",
   "metadata": {},
   "outputs": [],
   "source": [
    "run_localy = True\n",
    "\n",
    "if run_localy is False:\n",
    "    from qiskit_ibm_runtime import QiskitRuntimeService\n",
    " \n",
    "    service = QiskitRuntimeService(channel=\"ibm_quantum\", token=\"<MY_IBM_QUANTUM_TOKEN>\")"
   ]
  },
  {
   "cell_type": "code",
   "execution_count": 3,
   "id": "051fbe2a-1935-4bbf-a538-74d8664659a7",
   "metadata": {},
   "outputs": [],
   "source": [
    "gc = QuantumCircuit(2, 2)\n",
    "gc.measure_all()"
   ]
  },
  {
   "cell_type": "code",
   "execution_count": 4,
   "id": "b8b3b1af-61e4-48e1-82b5-d74a8de707cd",
   "metadata": {},
   "outputs": [
    {
     "data": {
      "text/plain": [
       "<qiskit.circuit.instructionset.InstructionSet at 0x7f562a3c95e0>"
      ]
     },
     "execution_count": 4,
     "metadata": {},
     "output_type": "execute_result"
    }
   ],
   "source": [
    "gc.h(0)"
   ]
  },
  {
   "cell_type": "code",
   "execution_count": 5,
   "id": "c1cc34d0-bb97-4638-a405-95ac3fb50e6f",
   "metadata": {},
   "outputs": [
    {
     "data": {
      "text/plain": [
       "<qiskit.circuit.instructionset.InstructionSet at 0x7f562a3c94c0>"
      ]
     },
     "execution_count": 5,
     "metadata": {},
     "output_type": "execute_result"
    }
   ],
   "source": [
    "gc.cx(0,1)"
   ]
  },
  {
   "cell_type": "code",
   "execution_count": 6,
   "id": "4e33ba09-3a40-4755-adfc-9f3fa4a0787e",
   "metadata": {},
   "outputs": [],
   "source": [
    "gc.measure_all()"
   ]
  },
  {
   "cell_type": "code",
   "execution_count": null,
   "id": "df134e6d-326f-43cd-8fff-6522cb899970",
   "metadata": {},
   "outputs": [],
   "source": []
  }
 ],
 "metadata": {
  "kernelspec": {
   "display_name": "Python 3 (ipykernel)",
   "language": "python",
   "name": "python3"
  },
  "language_info": {
   "codemirror_mode": {
    "name": "ipython",
    "version": 3
   },
   "file_extension": ".py",
   "mimetype": "text/x-python",
   "name": "python",
   "nbconvert_exporter": "python",
   "pygments_lexer": "ipython3",
   "version": "3.8.10"
  }
 },
 "nbformat": 4,
 "nbformat_minor": 5
}
