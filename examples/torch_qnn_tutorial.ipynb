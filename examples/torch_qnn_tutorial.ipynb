{
 "cells": [
  {
   "cell_type": "markdown",
   "id": "88a2fb5c",
   "metadata": {},
   "source": [
    "# Hybrid Quantum-Classical Model with PyTorch and Qiskit Tutorial\n",
    "\n",
    "This notebook shows how to build a hybrid quantum-classical model using PyTorch and Qiskit."
   ]
  },
  {
   "cell_type": "code",
   "execution_count": null,
   "id": "d0663caf",
   "metadata": {},
   "outputs": [],
   "source": [
    "import numpy as np\n",
    "import matplotlib.pyplot as plt\n",
    "from torch import Tensor\n",
    "from torch.nn import Linear, CrossEntropyLoss, MSELoss\n",
    "from torch.optim import LBFGS\n",
    "from qiskit import QuantumCircuit\n",
    "from qiskit.circuit.library import RealAmplitudes, ZZFeatureMap\n",
    "from qiskit_machine_learning.utils import algorithm_globals\n",
    "from qiskit_machine_learning.neural_networks import SamplerQNN, EstimatorQNN\n",
    "from qiskit_machine_learning.connectors import TorchConnector\n",
    "\n",
    "algorithm_globals.random_seed = 42"
   ]
  },
  {
   "cell_type": "markdown",
   "id": "f93ced03",
   "metadata": {},
   "source": [
    "### Generate Random Dataset"
   ]
  },
  {
   "cell_type": "code",
   "execution_count": null,
   "id": "f9455094",
   "metadata": {},
   "outputs": [],
   "source": [
    "# Select dataset dimension (num_inputs) and size (num_samples)\n",
    "num_inputs = 2\n",
    "num_samples = 20\n",
    "\n",
    "# Generate random input coordinates (X) and binary labels (y)\n",
    "X = 2 * algorithm_globals.random.random([num_samples, num_inputs]) - 1\n",
    "y01 = 1 * (np.sum(X, axis=1) >= 0)\n",
    "y = 2 * y01 - 1\n",
    "\n",
    "# Convert to torch Tensors\n",
    "X_ = Tensor(X)\n",
    "y01_ = Tensor(y01).reshape(len(y)).long()\n",
    "y_ = Tensor(y).reshape(len(y), 1)\n",
    "\n",
    "# Plot dataset\n",
    "for x, y_target in zip(X, y):\n",
    "    if y_target == 1:\n",
    "        plt.plot(x[0], x[1], \"bo\")\n",
    "    else:\n",
    "        plt.plot(x[0], x[1], \"go\")\n",
    "plt.plot([-1, 1], [1, -1], \"--\", color=\"black\")\n",
    "plt.show()"
   ]
  },
  {
   "cell_type": "markdown",
   "id": "5b038062",
   "metadata": {},
   "source": [
    "### Setup Quantum Circuit"
   ]
  },
  {
   "cell_type": "code",
   "execution_count": null,
   "id": "f74fccfb",
   "metadata": {},
   "outputs": [],
   "source": [
    "feature_map = ZZFeatureMap(num_inputs)\n",
    "ansatz = RealAmplitudes(num_inputs)\n",
    "\n",
    "qc = QuantumCircuit(num_inputs)\n",
    "qc.compose(feature_map, inplace=True)\n",
    "qc.compose(ansatz, inplace=True)\n",
    "qc.draw(output=\"mpl\", style=\"clifford\")"
   ]
  },
  {
   "cell_type": "markdown",
   "id": "30164112",
   "metadata": {},
   "source": [
    "### Build and Initialize Quantum Neural Network (QNN)"
   ]
  },
  {
   "cell_type": "code",
   "execution_count": null,
   "id": "1761b293",
   "metadata": {},
   "outputs": [],
   "source": [
    "qnn1 = EstimatorQNN(\n",
    "    circuit=qc, input_params=feature_map.parameters, weight_params=ansatz.parameters\n",
    ")\n",
    "\n",
    "# Setup PyTorch model using QNN with TorchConnector\n",
    "initial_weights = 0.1 * (2 * algorithm_globals.random.random(qnn1.num_weights) - 1)\n",
    "model1 = TorchConnector(qnn1, initial_weights=initial_weights)"
   ]
  },
  {
   "cell_type": "markdown",
   "id": "d2c13c9c",
   "metadata": {},
   "source": [
    "### Train the Hybrid Model with PyTorch"
   ]
  },
  {
   "cell_type": "code",
   "execution_count": null,
   "id": "fbc9986d",
   "metadata": {},
   "outputs": [],
   "source": [
    "optimizer = LBFGS(model1.parameters(), lr=0.01)\n",
    "loss_func = MSELoss()\n",
    "\n",
    "epochs = 20\n",
    "loss_list = []\n",
    "\n",
    "# Training loop\n",
    "for epoch in range(epochs):\n",
    "    def closure():\n",
    "        optimizer.zero_grad()\n",
    "        output = model1(X_)\n",
    "        loss = loss_func(output, y_)\n",
    "        loss.backward()\n",
    "        return loss\n",
    "\n",
    "    optimizer.step(closure)\n",
    "    total_loss = closure().item()\n",
    "    loss_list.append(total_loss)\n",
    "    print(f\"Epoch {epoch+1}/{epochs}, Loss: {total_loss}\")"
   ]
  },
  {
   "cell_type": "markdown",
   "id": "2df5c500",
   "metadata": {},
   "source": [
    "### Plot Loss Convergence"
   ]
  },
  {
   "cell_type": "code",
   "execution_count": null,
   "id": "c2934690",
   "metadata": {},
   "outputs": [],
   "source": [
    "plt.plot(loss_list)\n",
    "plt.title(\"Hybrid NN Training Convergence\")\n",
    "plt.xlabel(\"Epochs\")\n",
    "plt.ylabel(\"Loss\")\n",
    "plt.show()"
   ]
  },
  {
   "cell_type": "markdown",
   "id": "4c40aac9",
   "metadata": {},
   "source": [
    "### Save and Load the Trained Model"
   ]
  },
  {
   "cell_type": "code",
   "execution_count": null,
   "id": "40b11ea8",
   "metadata": {},
   "outputs": [],
   "source": [
    "# Save model\n",
    "torch.save(model1.state_dict(), \"model1.pt\")\n",
    "\n",
    "# Load model\n",
    "model1.load_state_dict(torch.load(\"model1.pt\"))\n",
    "model1.eval()"
   ]
  },
  {
   "cell_type": "markdown",
   "id": "995d9767",
   "metadata": {},
   "source": [
    "### Evaluate the Model on Test Data"
   ]
  },
  {
   "cell_type": "code",
   "execution_count": null,
   "id": "d407cd44",
   "metadata": {},
   "outputs": [],
   "source": [
    "model1.eval()\n",
    "with torch.no_grad():\n",
    "    correct = 0\n",
    "    for data, target in test_loader:\n",
    "        output = model1(data)\n",
    "        pred = output.argmax(dim=1, keepdim=True)\n",
    "        correct += pred.eq(target.view_as(pred)).sum().item()\n",
    "\n",
    "    print(f\"Accuracy: {correct / len(test_loader.dataset):.4f}\")"
   ]
  },
  {
   "cell_type": "code",
   "execution_count": null,
   "id": "8deb9708",
   "metadata": {},
   "outputs": [],
   "source": [
    "# Check Qiskit Version\n",
    "import tutorial_magics\n",
    "\n",
    "%qiskit_version_table\n",
    "%qiskit_copyright"
   ]
  }
 ],
 "metadata": {},
 "nbformat": 4,
 "nbformat_minor": 5
}
